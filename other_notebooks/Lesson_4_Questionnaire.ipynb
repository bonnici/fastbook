{
 "cells": [
  {
   "cell_type": "code",
   "execution_count": 1,
   "id": "417a50f7",
   "metadata": {
    "ExecuteTime": {
     "end_time": "2021-06-18T09:26:14.054665Z",
     "start_time": "2021-06-18T09:26:08.124335Z"
    }
   },
   "outputs": [],
   "source": [
    "from fastbook import *"
   ]
  },
  {
   "cell_type": "code",
   "execution_count": 2,
   "id": "26f4a740",
   "metadata": {
    "ExecuteTime": {
     "end_time": "2021-06-18T09:26:35.265075Z",
     "start_time": "2021-06-18T09:26:35.259489Z"
    }
   },
   "outputs": [],
   "source": [
    "my_list = L(7,2,3,6,1,8,4,6)"
   ]
  },
  {
   "cell_type": "code",
   "execution_count": 3,
   "id": "3e96e97b",
   "metadata": {
    "ExecuteTime": {
     "end_time": "2021-06-18T09:26:45.278415Z",
     "start_time": "2021-06-18T09:26:45.270699Z"
    }
   },
   "outputs": [
    {
     "data": {
      "text/plain": [
       "(#7) [7,2,3,6,1,8,4]"
      ]
     },
     "execution_count": 3,
     "metadata": {},
     "output_type": "execute_result"
    }
   ],
   "source": [
    "my_list.unique()"
   ]
  },
  {
   "cell_type": "code",
   "execution_count": 4,
   "id": "854d624e",
   "metadata": {
    "ExecuteTime": {
     "end_time": "2021-06-18T09:27:15.153925Z",
     "start_time": "2021-06-18T09:27:15.148758Z"
    }
   },
   "outputs": [
    {
     "data": {
      "text/plain": [
       "(#3) [7,3,1]"
      ]
     },
     "execution_count": 4,
     "metadata": {},
     "output_type": "execute_result"
    }
   ],
   "source": [
    "my_list.filter(lambda n: n % 2 == 1)"
   ]
  },
  {
   "cell_type": "code",
   "execution_count": 5,
   "id": "6668a859",
   "metadata": {
    "ExecuteTime": {
     "end_time": "2021-06-18T09:27:29.261570Z",
     "start_time": "2021-06-18T09:27:29.255958Z"
    }
   },
   "outputs": [
    {
     "data": {
      "text/plain": [
       "(#8) [14,4,6,12,2,16,8,12]"
      ]
     },
     "execution_count": 5,
     "metadata": {},
     "output_type": "execute_result"
    }
   ],
   "source": [
    "my_list.map(lambda n: n * 2)"
   ]
  },
  {
   "cell_type": "code",
   "execution_count": 9,
   "id": "eaed7b18",
   "metadata": {
    "ExecuteTime": {
     "end_time": "2021-06-18T09:29:27.838532Z",
     "start_time": "2021-06-18T09:29:27.833358Z"
    }
   },
   "outputs": [
    {
     "data": {
      "text/plain": [
       "(#8) [7,2,3,6,1,8,4,6]"
      ]
     },
     "execution_count": 9,
     "metadata": {},
     "output_type": "execute_result"
    }
   ],
   "source": [
    "my_list.concat()"
   ]
  },
  {
   "cell_type": "code",
   "execution_count": 10,
   "id": "81bba09d",
   "metadata": {
    "ExecuteTime": {
     "end_time": "2021-06-18T09:29:43.249050Z",
     "start_time": "2021-06-18T09:29:43.245982Z"
    }
   },
   "outputs": [],
   "source": [
    "other_list = L(9,8,7)"
   ]
  },
  {
   "cell_type": "code",
   "execution_count": 11,
   "id": "45edfa68",
   "metadata": {
    "ExecuteTime": {
     "end_time": "2021-06-18T09:30:08.046431Z",
     "start_time": "2021-06-18T09:30:08.040434Z"
    }
   },
   "outputs": [
    {
     "data": {
      "text/plain": [
       "(#2) [[7, 2, 3, 6, 1, 8, 4, 6],[9, 8, 7]]"
      ]
     },
     "execution_count": 11,
     "metadata": {},
     "output_type": "execute_result"
    }
   ],
   "source": [
    "combined = L(my_list, other_list)\n",
    "combined"
   ]
  },
  {
   "cell_type": "code",
   "execution_count": 12,
   "id": "d47a6638",
   "metadata": {
    "ExecuteTime": {
     "end_time": "2021-06-18T09:30:12.818290Z",
     "start_time": "2021-06-18T09:30:12.813228Z"
    }
   },
   "outputs": [
    {
     "data": {
      "text/plain": [
       "(#11) [7,2,3,6,1,8,4,6,9,8...]"
      ]
     },
     "execution_count": 12,
     "metadata": {},
     "output_type": "execute_result"
    }
   ],
   "source": [
    "combined.concat()"
   ]
  },
  {
   "cell_type": "code",
   "execution_count": 14,
   "id": "facd5e17",
   "metadata": {
    "ExecuteTime": {
     "end_time": "2021-06-18T09:30:49.314541Z",
     "start_time": "2021-06-18T09:30:49.311734Z"
    }
   },
   "outputs": [],
   "source": [
    "from pathlib import Path"
   ]
  },
  {
   "cell_type": "code",
   "execution_count": 15,
   "id": "214796a2",
   "metadata": {
    "ExecuteTime": {
     "end_time": "2021-06-18T09:31:03.585277Z",
     "start_time": "2021-06-18T09:31:03.582514Z"
    }
   },
   "outputs": [],
   "source": [
    "p = Path()"
   ]
  },
  {
   "cell_type": "code",
   "execution_count": 17,
   "id": "9e3d3b1e",
   "metadata": {
    "ExecuteTime": {
     "end_time": "2021-06-18T09:31:22.863127Z",
     "start_time": "2021-06-18T09:31:22.857108Z"
    }
   },
   "outputs": [
    {
     "data": {
      "text/plain": [
       "(#4) [Path('Lesson_2_Workbook.ipynb'),Path('Untitled.ipynb'),Path('.ipynb_checkpoints'),Path('Lesson_4_Questionnaire.ipynb')]"
      ]
     },
     "execution_count": 17,
     "metadata": {},
     "output_type": "execute_result"
    }
   ],
   "source": [
    "p.ls()"
   ]
  },
  {
   "cell_type": "code",
   "execution_count": 19,
   "id": "fd8e2f06",
   "metadata": {
    "ExecuteTime": {
     "end_time": "2021-06-18T09:31:40.639989Z",
     "start_time": "2021-06-18T09:31:40.633889Z"
    }
   },
   "outputs": [
    {
     "data": {
      "text/plain": [
       "''"
      ]
     },
     "execution_count": 19,
     "metadata": {},
     "output_type": "execute_result"
    }
   ],
   "source": [
    "p.drive"
   ]
  },
  {
   "cell_type": "code",
   "execution_count": 21,
   "id": "d6883cce",
   "metadata": {
    "ExecuteTime": {
     "end_time": "2021-06-18T09:32:12.252557Z",
     "start_time": "2021-06-18T09:32:12.247705Z"
    }
   },
   "outputs": [
    {
     "data": {
      "text/plain": [
       "''"
      ]
     },
     "execution_count": 21,
     "metadata": {},
     "output_type": "execute_result"
    }
   ],
   "source": [
    "p.ls()[0].root"
   ]
  },
  {
   "cell_type": "code",
   "execution_count": 22,
   "id": "7b23a037",
   "metadata": {
    "ExecuteTime": {
     "end_time": "2021-06-18T09:32:16.980327Z",
     "start_time": "2021-06-18T09:32:16.971806Z"
    }
   },
   "outputs": [
    {
     "data": {
      "text/plain": [
       "'.ipynb'"
      ]
     },
     "execution_count": 22,
     "metadata": {},
     "output_type": "execute_result"
    }
   ],
   "source": [
    "p.ls()[0].suffix"
   ]
  },
  {
   "cell_type": "code",
   "execution_count": 24,
   "id": "3e5eafb8",
   "metadata": {
    "ExecuteTime": {
     "end_time": "2021-06-18T09:32:43.843042Z",
     "start_time": "2021-06-18T09:32:43.836004Z"
    }
   },
   "outputs": [
    {
     "data": {
      "text/plain": [
       "'Lesson_2_Workbook'"
      ]
     },
     "execution_count": 24,
     "metadata": {},
     "output_type": "execute_result"
    }
   ],
   "source": [
    "p.ls()[0].stem"
   ]
  },
  {
   "cell_type": "code",
   "execution_count": 25,
   "id": "53acddba",
   "metadata": {
    "ExecuteTime": {
     "end_time": "2021-06-18T09:33:01.977080Z",
     "start_time": "2021-06-18T09:33:01.972427Z"
    }
   },
   "outputs": [
    {
     "data": {
      "text/plain": [
       "os.stat_result(st_mode=16893, st_ino=1033261, st_dev=66305, st_nlink=3, st_uid=1000, st_gid=1000, st_size=4096, st_atime=1624008732, st_mtime=1624008693, st_ctime=1624008693)"
      ]
     },
     "execution_count": 25,
     "metadata": {},
     "output_type": "execute_result"
    }
   ],
   "source": [
    "p.stat()"
   ]
  },
  {
   "cell_type": "code",
   "execution_count": 27,
   "id": "df31ca88",
   "metadata": {
    "ExecuteTime": {
     "end_time": "2021-06-18T09:33:34.174752Z",
     "start_time": "2021-06-18T09:33:34.169714Z"
    }
   },
   "outputs": [
    {
     "data": {
      "text/plain": [
       "[Path('Untitled.ipynb')]"
      ]
     },
     "execution_count": 27,
     "metadata": {},
     "output_type": "execute_result"
    }
   ],
   "source": [
    "sorted(p.glob('U*'))"
   ]
  },
  {
   "cell_type": "code",
   "execution_count": null,
   "id": "353c78d0",
   "metadata": {},
   "outputs": [],
   "source": []
  }
 ],
 "metadata": {
  "kernelspec": {
   "display_name": "Python 3",
   "language": "python",
   "name": "python3"
  },
  "language_info": {
   "codemirror_mode": {
    "name": "ipython",
    "version": 3
   },
   "file_extension": ".py",
   "mimetype": "text/x-python",
   "name": "python",
   "nbconvert_exporter": "python",
   "pygments_lexer": "ipython3",
   "version": "3.8.5"
  }
 },
 "nbformat": 4,
 "nbformat_minor": 5
}
