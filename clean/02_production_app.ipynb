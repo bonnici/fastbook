{
 "cells": [
  {
   "cell_type": "code",
   "execution_count": 1,
   "id": "eaefaec6",
   "metadata": {
    "ExecuteTime": {
     "end_time": "2021-06-07T10:36:19.440292Z",
     "start_time": "2021-06-07T10:36:17.747731Z"
    }
   },
   "outputs": [],
   "source": [
    "import fastbook\n",
    "fastbook.setup_book()\n",
    "from fastbook import *\n",
    "from fastai.vision.widgets import *"
   ]
  },
  {
   "cell_type": "code",
   "execution_count": 12,
   "id": "f9f9f686",
   "metadata": {
    "ExecuteTime": {
     "end_time": "2021-06-07T10:38:50.500934Z",
     "start_time": "2021-06-07T10:38:50.498693Z"
    }
   },
   "outputs": [],
   "source": [
    "path = Path()"
   ]
  },
  {
   "cell_type": "code",
   "execution_count": 13,
   "id": "cdb1f5d5",
   "metadata": {
    "ExecuteTime": {
     "end_time": "2021-06-07T10:38:51.473495Z",
     "start_time": "2021-06-07T10:38:51.414846Z"
    }
   },
   "outputs": [],
   "source": [
    "learn_inf = load_learner(path/'succulent_v1_export.pkl')"
   ]
  },
  {
   "cell_type": "code",
   "execution_count": 14,
   "id": "25b1cb32",
   "metadata": {
    "ExecuteTime": {
     "end_time": "2021-06-07T10:38:52.077584Z",
     "start_time": "2021-06-07T10:38:52.070924Z"
    }
   },
   "outputs": [],
   "source": [
    "btn_upload = widgets.FileUpload()"
   ]
  },
  {
   "cell_type": "code",
   "execution_count": 16,
   "id": "2c7573b7",
   "metadata": {
    "ExecuteTime": {
     "end_time": "2021-06-07T10:39:27.672280Z",
     "start_time": "2021-06-07T10:39:27.664851Z"
    }
   },
   "outputs": [],
   "source": [
    "out_pl = widgets.Output()\n",
    "out_pl.clear_output()"
   ]
  },
  {
   "cell_type": "code",
   "execution_count": 17,
   "id": "e0ffc897",
   "metadata": {
    "ExecuteTime": {
     "end_time": "2021-06-07T10:39:29.153958Z",
     "start_time": "2021-06-07T10:39:29.146835Z"
    }
   },
   "outputs": [],
   "source": [
    "lbl_pred = widgets.Label()\n",
    "lbl_pred.value = f'Prediction: {pred}; Probability: {probs[pred_idx]:.04f}'"
   ]
  },
  {
   "cell_type": "code",
   "execution_count": 18,
   "id": "a1d145a5",
   "metadata": {
    "ExecuteTime": {
     "end_time": "2021-06-07T10:39:31.268505Z",
     "start_time": "2021-06-07T10:39:31.261824Z"
    }
   },
   "outputs": [],
   "source": [
    "btn_run = widgets.Button(description='Classify')"
   ]
  },
  {
   "cell_type": "code",
   "execution_count": 19,
   "id": "071f3222",
   "metadata": {
    "ExecuteTime": {
     "end_time": "2021-06-07T10:39:33.112898Z",
     "start_time": "2021-06-07T10:39:33.109554Z"
    }
   },
   "outputs": [],
   "source": [
    "def on_click_classify(change):\n",
    "    img = PILImage.create(btn_upload.data[-1])\n",
    "    out_pl.clear_output()\n",
    "    with out_pl: display(img.to_thumb(128,128))\n",
    "    pred,pred_idx,probs = learn_inf.predict(img)\n",
    "    lbl_pred.value = f'{pred}! Probability: {probs[pred_idx] * 100:.02f}%'\n",
    "\n",
    "btn_run.on_click(on_click_classify)"
   ]
  },
  {
   "cell_type": "code",
   "execution_count": 20,
   "id": "e7dd2ec2",
   "metadata": {
    "ExecuteTime": {
     "end_time": "2021-06-07T10:39:34.813361Z",
     "start_time": "2021-06-07T10:39:34.800011Z"
    }
   },
   "outputs": [
    {
     "data": {
      "application/vnd.jupyter.widget-view+json": {
       "model_id": "ad63846cf94b4c80a57e430cfb62b494",
       "version_major": 2,
       "version_minor": 0
      },
      "text/plain": [
       "VBox(children=(Label(value='Select your succulent!'), FileUpload(value={}, description='Upload'), Button(descr…"
      ]
     },
     "metadata": {},
     "output_type": "display_data"
    },
    {
     "data": {
      "text/html": [],
      "text/plain": [
       "<IPython.core.display.HTML object>"
      ]
     },
     "metadata": {},
     "output_type": "display_data"
    }
   ],
   "source": [
    "VBox([widgets.Label('Select your succulent!'), \n",
    "      btn_upload, btn_run, out_pl, lbl_pred])"
   ]
  }
 ],
 "metadata": {
  "kernelspec": {
   "display_name": "Python 3",
   "language": "python",
   "name": "python3"
  },
  "language_info": {
   "codemirror_mode": {
    "name": "ipython",
    "version": 3
   },
   "file_extension": ".py",
   "mimetype": "text/x-python",
   "name": "python",
   "nbconvert_exporter": "python",
   "pygments_lexer": "ipython3",
   "version": "3.8.5"
  }
 },
 "nbformat": 4,
 "nbformat_minor": 5
}
