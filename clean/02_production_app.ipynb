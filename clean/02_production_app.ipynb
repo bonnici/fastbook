{
 "cells": [
  {
   "cell_type": "code",
   "execution_count": 1,
   "id": "eaefaec6",
   "metadata": {
    "ExecuteTime": {
     "end_time": "2021-06-07T10:50:00.675556Z",
     "start_time": "2021-06-07T10:49:58.990527Z"
    }
   },
   "outputs": [],
   "source": [
    "import fastbook\n",
    "fastbook.setup_book()\n",
    "from fastbook import *\n",
    "from fastai.vision.widgets import *"
   ]
  },
  {
   "cell_type": "code",
   "execution_count": 2,
   "id": "f9f9f686",
   "metadata": {
    "ExecuteTime": {
     "end_time": "2021-06-07T10:50:01.264777Z",
     "start_time": "2021-06-07T10:50:01.262462Z"
    }
   },
   "outputs": [],
   "source": [
    "path = Path()"
   ]
  },
  {
   "cell_type": "code",
   "execution_count": 3,
   "id": "cdb1f5d5",
   "metadata": {
    "ExecuteTime": {
     "end_time": "2021-06-07T10:50:01.823721Z",
     "start_time": "2021-06-07T10:50:01.760698Z"
    }
   },
   "outputs": [],
   "source": [
    "learn_inf = load_learner(path/'succulent_v1_export.pkl')"
   ]
  },
  {
   "cell_type": "code",
   "execution_count": 4,
   "id": "25b1cb32",
   "metadata": {
    "ExecuteTime": {
     "end_time": "2021-06-07T10:50:02.053454Z",
     "start_time": "2021-06-07T10:50:02.046351Z"
    }
   },
   "outputs": [],
   "source": [
    "btn_upload = widgets.FileUpload()"
   ]
  },
  {
   "cell_type": "code",
   "execution_count": 5,
   "id": "2c7573b7",
   "metadata": {
    "ExecuteTime": {
     "end_time": "2021-06-07T10:50:02.417926Z",
     "start_time": "2021-06-07T10:50:02.410047Z"
    }
   },
   "outputs": [],
   "source": [
    "out_pl = widgets.Output()\n",
    "out_pl.clear_output()"
   ]
  },
  {
   "cell_type": "code",
   "execution_count": 6,
   "id": "e0ffc897",
   "metadata": {
    "ExecuteTime": {
     "end_time": "2021-06-07T10:50:02.751718Z",
     "start_time": "2021-06-07T10:50:02.745645Z"
    }
   },
   "outputs": [],
   "source": [
    "lbl_pred = widgets.Label()"
   ]
  },
  {
   "cell_type": "code",
   "execution_count": 7,
   "id": "a1d145a5",
   "metadata": {
    "ExecuteTime": {
     "end_time": "2021-06-07T10:50:03.088437Z",
     "start_time": "2021-06-07T10:50:03.082154Z"
    }
   },
   "outputs": [],
   "source": [
    "btn_run = widgets.Button(description='Classify')"
   ]
  },
  {
   "cell_type": "code",
   "execution_count": 8,
   "id": "071f3222",
   "metadata": {
    "ExecuteTime": {
     "end_time": "2021-06-07T10:50:03.427072Z",
     "start_time": "2021-06-07T10:50:03.424185Z"
    }
   },
   "outputs": [],
   "source": [
    "def on_click_classify(change):\n",
    "    img = PILImage.create(btn_upload.data[-1])\n",
    "    out_pl.clear_output()\n",
    "    with out_pl: display(img.to_thumb(128,128))\n",
    "    pred,pred_idx,probs = learn_inf.predict(img)\n",
    "    lbl_pred.value = f'{pred}! Probability: {probs[pred_idx] * 100:.02f}%'\n",
    "\n",
    "btn_run.on_click(on_click_classify)"
   ]
  },
  {
   "cell_type": "code",
   "execution_count": 9,
   "id": "e7dd2ec2",
   "metadata": {
    "ExecuteTime": {
     "end_time": "2021-06-07T10:50:03.932985Z",
     "start_time": "2021-06-07T10:50:03.918524Z"
    }
   },
   "outputs": [
    {
     "data": {
      "application/vnd.jupyter.widget-view+json": {
       "model_id": "ce7844bc67614ce6ba72b16ffebe816a",
       "version_major": 2,
       "version_minor": 0
      },
      "text/plain": [
       "VBox(children=(Label(value='Select your succulent!'), FileUpload(value={}, description='Upload'), Button(descr…"
      ]
     },
     "metadata": {},
     "output_type": "display_data"
    },
    {
     "data": {
      "text/html": [],
      "text/plain": [
       "<IPython.core.display.HTML object>"
      ]
     },
     "metadata": {},
     "output_type": "display_data"
    }
   ],
   "source": [
    "VBox([widgets.Label('Select your succulent!'), \n",
    "      btn_upload, btn_run, out_pl, lbl_pred])"
   ]
  },
  {
   "cell_type": "code",
   "execution_count": null,
   "id": "c9e4cf5a",
   "metadata": {},
   "outputs": [],
   "source": []
  }
 ],
 "metadata": {
  "kernelspec": {
   "display_name": "Python 3",
   "language": "python",
   "name": "python3"
  },
  "language_info": {
   "codemirror_mode": {
    "name": "ipython",
    "version": 3
   },
   "file_extension": ".py",
   "mimetype": "text/x-python",
   "name": "python",
   "nbconvert_exporter": "python",
   "pygments_lexer": "ipython3",
   "version": "3.8.5"
  }
 },
 "nbformat": 4,
 "nbformat_minor": 5
}
